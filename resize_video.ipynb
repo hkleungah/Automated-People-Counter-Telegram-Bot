{
 "cells": [
  {
   "cell_type": "code",
   "execution_count": 1,
   "metadata": {},
   "outputs": [],
   "source": [
    "import cv2\n",
    "\n",
    "def resize_video(input_path, output_path, target_size):\n",
    "    # Open the video\n",
    "    cap = cv2.VideoCapture(input_path)\n",
    "    \n",
    "    # Get original width and height\n",
    "    width  = int(cap.get(cv2.CAP_PROP_FRAME_WIDTH))\n",
    "    height = int(cap.get(cv2.CAP_PROP_FRAME_HEIGHT))\n",
    "    \n",
    "    # Define the codec using VideoWriter_fourcc and create VideoWriter object\n",
    "    fourcc = cv2.VideoWriter_fourcc(*'XVID')\n",
    "    out = cv2.VideoWriter(output_path, fourcc, 20.0, target_size)\n",
    "    \n",
    "    while True:\n",
    "        ret, frame = cap.read()\n",
    "        if not ret:\n",
    "            break\n",
    "        \n",
    "        # Resize frame\n",
    "        resized_frame = cv2.resize(frame, target_size, interpolation=cv2.INTER_AREA)\n",
    "        \n",
    "        # Write the resized frame to the new video file\n",
    "        out.write(resized_frame)\n",
    "\n",
    "    # Release everything if job is finished\n",
    "    cap.release()\n",
    "    out.release()\n",
    "    cv2.destroyAllWindows()\n",
    "\n",
    "# Example usage:\n",
    "resize_video('./pedestrian/passageway1-c2.avi', './pedestrian/passageway1-c2-001.mp4', (360*3, 288*3))\n"
   ]
  }
 ],
 "metadata": {
  "kernelspec": {
   "display_name": "track-object-yolov8",
   "language": "python",
   "name": "python3"
  },
  "language_info": {
   "codemirror_mode": {
    "name": "ipython",
    "version": 3
   },
   "file_extension": ".py",
   "mimetype": "text/x-python",
   "name": "python",
   "nbconvert_exporter": "python",
   "pygments_lexer": "ipython3",
   "version": "3.10.13"
  }
 },
 "nbformat": 4,
 "nbformat_minor": 2
}
